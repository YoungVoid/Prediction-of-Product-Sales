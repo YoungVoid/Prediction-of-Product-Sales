{
  "nbformat": 4,
  "nbformat_minor": 0,
  "metadata": {
    "colab": {
      "provenance": [],
      "authorship_tag": "ABX9TyNYdgWflRf1S9QvFelAedui",
      "include_colab_link": true
    },
    "kernelspec": {
      "name": "python3",
      "display_name": "Python 3"
    },
    "language_info": {
      "name": "python"
    }
  },
  "cells": [
    {
      "cell_type": "markdown",
      "metadata": {
        "id": "view-in-github",
        "colab_type": "text"
      },
      "source": [
        "<a href=\"https://colab.research.google.com/github/YoungVoid/Prediction-of-Product-Sales/blob/main/Prediction_of_Product_Sales.ipynb\" target=\"_parent\"><img src=\"https://colab.research.google.com/assets/colab-badge.svg\" alt=\"Open In Colab\"/></a>"
      ]
    },
    {
      "cell_type": "markdown",
      "source": [
        "#Prediction of Product Sales\n"
      ],
      "metadata": {
        "id": "4NoEohlho9An"
      }
    },
    {
      "cell_type": "markdown",
      "source": [
        "Author: Nian Vrey"
      ],
      "metadata": {
        "id": "J98JjIUNpK6l"
      }
    },
    {
      "cell_type": "markdown",
      "source": [
        "## Project Overview"
      ],
      "metadata": {
        "id": "INmY-_p0pcQd"
      }
    },
    {
      "cell_type": "markdown",
      "source": [
        "## Load and Inspect Data"
      ],
      "metadata": {
        "id": "p5Ak03Lhpe93"
      }
    },
    {
      "cell_type": "code",
      "source": [],
      "metadata": {
        "id": "F_QNKLQhprCM"
      },
      "execution_count": null,
      "outputs": []
    },
    {
      "cell_type": "markdown",
      "source": [
        "## Clean Data"
      ],
      "metadata": {
        "id": "C4EB6apmplnN"
      }
    },
    {
      "cell_type": "code",
      "source": [],
      "metadata": {
        "id": "QNgWoVvJpqF_"
      },
      "execution_count": null,
      "outputs": []
    },
    {
      "cell_type": "markdown",
      "source": [
        "## Exploratory Data Analysis"
      ],
      "metadata": {
        "id": "MROg2ONHpqcA"
      }
    },
    {
      "cell_type": "code",
      "source": [],
      "metadata": {
        "id": "W9ZENTyepx9w"
      },
      "execution_count": null,
      "outputs": []
    },
    {
      "cell_type": "markdown",
      "source": [
        "## Feature Inspection"
      ],
      "metadata": {
        "id": "taGsPOJ1p3Xm"
      }
    },
    {
      "cell_type": "code",
      "source": [],
      "metadata": {
        "id": "y2YNZFJBp3EU"
      },
      "execution_count": null,
      "outputs": []
    }
  ]
}